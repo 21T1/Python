{
  "nbformat": 4,
  "nbformat_minor": 0,
  "metadata": {
    "colab": {
      "provenance": [],
      "authorship_tag": "ABX9TyNGRoUAMqHDOk+r1oVJ1ME6",
      "include_colab_link": true
    },
    "kernelspec": {
      "name": "python3",
      "display_name": "Python 3"
    },
    "language_info": {
      "name": "python"
    }
  },
  "cells": [
    {
      "cell_type": "markdown",
      "metadata": {
        "id": "view-in-github",
        "colab_type": "text"
      },
      "source": [
        "<a href=\"https://colab.research.google.com/github/21T1/Python/blob/main/21T1.ipynb\" target=\"_parent\"><img src=\"https://colab.research.google.com/assets/colab-badge.svg\" alt=\"Open In Colab\"/></a>"
      ]
    },
    {
      "cell_type": "markdown",
      "source": [
        "Câu 1:"
      ],
      "metadata": {
        "id": "x5hfNaQGOy0S"
      }
    },
    {
      "cell_type": "code",
      "execution_count": null,
      "metadata": {
        "colab": {
          "base_uri": "https://localhost:8080/"
        },
        "id": "mhGaO_g0z9l3",
        "outputId": "a246dbfe-516a-4274-85b0-41c0be0c2f3f"
      },
      "outputs": [
        {
          "output_type": "stream",
          "name": "stdout",
          "text": [
            "s=132\n",
            "Khong phai chuoi nhi phan\n"
          ]
        }
      ],
      "source": [
        "s = input(\"s=\")\n",
        "def bin(s):\n",
        "  for i in range(len(s)):\n",
        "    if(s[i] != \"0\" and s[i] != \"1\"):\n",
        "      return False\n",
        "  return True\n",
        "n = 0\n",
        "if(bin(s)):\n",
        "  for i in range(len(s)):\n",
        "    n += int(s[i])*2**(len(s)-i-1)\n",
        "  print(\"n=\",n)\n",
        "else:\n",
        "  print(\"Khong phai chuoi nhi phan\")"
      ]
    },
    {
      "cell_type": "markdown",
      "source": [
        "Câu 2:"
      ],
      "metadata": {
        "id": "A3G5zv-PO2Z_"
      }
    },
    {
      "cell_type": "code",
      "source": [
        "n = 7\n",
        "A = []\n",
        "# for i in range(n):\n",
        "#   A.append([])\n",
        "#   for j in range(n):\n",
        "#     print(\"A[\",i+1,\",\",j+1,\"] = \", end = '')\n",
        "#     A[i].append(int(input(\"\")))\n",
        "n1 = 0\n",
        "while (n1 < n):\n",
        "  i = input()\n",
        "  A.append([])\n",
        "  for s in i.split():\n",
        "    A[n1].append(int(s))\n",
        "  n1 += 1\n",
        "i = int(input(\"i=\"))\n",
        "for j in range(n):\n",
        "  if(A[i-1][j] == 1):\n",
        "    print('{},'.format(j+1), end = '')"
      ],
      "metadata": {
        "colab": {
          "base_uri": "https://localhost:8080/"
        },
        "id": "f4PCtwKj0xi6",
        "outputId": "b7ba0ccb-58a8-4068-907d-c6458e2df51e"
      },
      "execution_count": null,
      "outputs": [
        {
          "output_type": "stream",
          "name": "stdout",
          "text": [
            "0 1 0 0 0 0 0\n",
            "1 0 1 1 0 0 0\n",
            "0 1 0 0 0 1 0\n",
            "0 1 0 0 1 0 0\n",
            "0 0 0 1 0 1 1\n",
            "0 0 1 0 1 0 1\n",
            "0 0 0 0 1 1 0\n",
            "i=2\n",
            "1,3,4,"
          ]
        }
      ]
    },
    {
      "cell_type": "markdown",
      "source": [
        "Câu 3, 4:"
      ],
      "metadata": {
        "id": "PV0aPZ_kO4MQ"
      }
    },
    {
      "cell_type": "code",
      "source": [
        "class HANGHOA:\n",
        "  #Khoi tao\n",
        "  def __init__(self,mahang,tenhang,soluong,giaban):\n",
        "    self.mahang = mahang\n",
        "    self.tenhang = tenhang\n",
        "    self.soluong = soluong\n",
        "    self.giaban = giaban\n",
        "class QUANLY:\n",
        "  List = []\n",
        "  def sl(self):\n",
        "    return self.List.__len__()\n",
        "  #Hien thi thong tin thuoc tinh\n",
        "  def xuat(self):\n",
        "    for i in range(self.sl()):\n",
        "      t = self.List[i]\n",
        "      print('{}; {}; {}; {}'.format(t.mahang,t.tenhang,t.soluong,t.giaban))\n",
        "  def luuFile(self):\n",
        "    f = open('hanghoa.txt', 'w')\n",
        "    for i in range(self.sl()):\n",
        "      f = open('hanghoa.txt', 'a')\n",
        "      t = self.List[i]\n",
        "      f.write('{}; {}; {}; {}\\n'.format(t.mahang,t.tenhang,t.soluong,t.giaban))\n",
        "    f.close()\n",
        "  #Thiet lap va lay thong tin thuoc tinh\n",
        "  def nhap(self):\n",
        "    while True:\n",
        "      mahang = input(\"Nhap ma hang: \")\n",
        "      t = 0\n",
        "      if(self.sl() == 0):\n",
        "        break\n",
        "      else:\n",
        "        for i in range(self.sl()):\n",
        "          if(self.List[i].mahang == mahang):\n",
        "            print(\"Ma hang da ton tai\")\n",
        "            t = 1\n",
        "            break\n",
        "      if(t == 0):\n",
        "        break\n",
        "    if(mahang == ''):\n",
        "      print(\"Ket thuc viec nhap danh sach\")\n",
        "      exit\n",
        "    else:\n",
        "      tenhang = input(\"Nhap ten hang: \")\n",
        "      soluong = int(input(\"Nhap so luong: \"))\n",
        "      giaban = int(input(\"Nhap gia ban: \"))\n",
        "      hanghoa = HANGHOA(mahang,tenhang,soluong,giaban)\n",
        "      self.List.append(hanghoa)\n",
        "def doc():\n",
        "  mahang = \"\"\n",
        "  tenhang = \"\"\n",
        "  soluong = 0\n",
        "  giaban = 1\n",
        "  f = open('hanghoa.txt', 'r')\n",
        "  while True:\n",
        "    l = f.readline()\n",
        "    if not l:\n",
        "      break\n",
        "    else:\n",
        "      i = 0\n",
        "      for j in range(len(l)):\n",
        "        if(l[j] == \";\"):\n",
        "          mahang = l[0:j]\n",
        "          i = j + 2\n",
        "          break\n",
        "      for j in range(i,len(l)):\n",
        "        if(l[j] == \";\"):\n",
        "          tenhang = l[i:j]\n",
        "          i = j + 2\n",
        "          break\n",
        "      for j in range(i,len(l)):\n",
        "        if(l[j] == \";\"):\n",
        "          soluong = int(l[i:j])\n",
        "          i = j + 2\n",
        "          break\n",
        "      giaban = int(l[i:len(l)-1])\n",
        "      hanghoa = HANGHOA(mahang,tenhang,soluong,giaban)\n",
        "      ListMH.append(hanghoa)\n",
        "  f.close()\n",
        "QLHH = QUANLY()\n",
        "#Nhap danh sach\n",
        "while True:\n",
        "  t = QLHH.sl()\n",
        "  QLHH.nhap()\n",
        "  if(QLHH.sl() == t):\n",
        "    break\n",
        "#Luu File\n",
        "QLHH.luuFile()\n",
        "#Doc DL\n",
        "ListMH = []\n",
        "doc()\n",
        "t = 0\n",
        "print(\"Mat hang co gia ban > 20000: \", end = '')\n",
        "for i in range(QLHH.sl()):\n",
        "  if(ListMH[i].giaban > 20000):\n",
        "    t = 1\n",
        "    print(ListMH[i].tenhang, end = ', ')\n",
        "if(t == 0):\n",
        "  print(\"Khong co mat hang nao\")"
      ],
      "metadata": {
        "colab": {
          "base_uri": "https://localhost:8080/"
        },
        "id": "V-DgIsn34PH1",
        "outputId": "aaa234db-f8ad-47a2-9772-374943966ff5"
      },
      "execution_count": null,
      "outputs": [
        {
          "output_type": "stream",
          "name": "stdout",
          "text": [
            "Nhap ma hang: MH1\n",
            "Nhap ten hang: 1\n",
            "Nhap so luong: 1\n",
            "Nhap gia ban: 30000\n",
            "Nhap ma hang: MH2\n",
            "Nhap ten hang: Hang\n",
            "Nhap so luong: 20000\n",
            "Nhap gia ban: 20000\n",
            "Nhap ma hang: \n",
            "Ket thuc viec nhap danh sach\n",
            "Mat hang co gia ban > 20000: 1, "
          ]
        }
      ]
    }
  ]
}